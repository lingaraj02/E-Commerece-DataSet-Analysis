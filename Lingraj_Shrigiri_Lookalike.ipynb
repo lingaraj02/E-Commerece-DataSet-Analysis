{
 "cells": [
  {
   "cell_type": "code",
   "execution_count": 41,
   "id": "b277fce4-484e-4f19-9bc1-0be6325ca143",
   "metadata": {},
   "outputs": [],
   "source": [
    "import pandas as pd\n",
    "from sklearn.metrics.pairwise import cosine_similarity\n",
    "import seaborn as sns\n",
    "import numpy as np"
   ]
  },
  {
   "cell_type": "code",
   "execution_count": 42,
   "id": "3963c570-8804-4299-bf62-c1b7b63ffa1c",
   "metadata": {},
   "outputs": [],
   "source": [
    "# Merge datasets\n",
    "transactions_products = transactions.merge(products, on=\"ProductID\", how=\"left\")\n",
    "customer_transactions = transactions_products.merge(customers, on=\"CustomerID\", how=\"left\")"
   ]
  },
  {
   "cell_type": "code",
   "execution_count": 43,
   "id": "581fe547-69d1-41ef-9e0d-c43f8652dde1",
   "metadata": {},
   "outputs": [],
   "source": [
    "# Aggregate features for customer similarity\n",
    "customer_features = customer_transactions.groupby(\"CustomerID\").agg(\n",
    "    total_spend=pd.NamedAgg(column=\"TotalValue\", aggfunc=\"sum\"),\n",
    "    transaction_count=pd.NamedAgg(column=\"TransactionID\", aggfunc=\"count\"),\n",
    "    avg_transaction_value=pd.NamedAgg(column=\"TotalValue\", aggfunc=\"mean\"),\n",
    "    region=pd.NamedAgg(column=\"Region\", aggfunc=\"first\")\n",
    ").reset_index()"
   ]
  },
  {
   "cell_type": "code",
   "execution_count": 44,
   "id": "b4732b7b-54e4-41fd-8773-063ec9ce133f",
   "metadata": {},
   "outputs": [],
   "source": [
    "# One-hot encode regions\n",
    "customer_features = pd.get_dummies(customer_features, columns=[\"region\"], prefix=\"region\")"
   ]
  },
  {
   "cell_type": "code",
   "execution_count": 45,
   "id": "62b4544d-5cbd-41b1-bdf0-6788f55a8787",
   "metadata": {},
   "outputs": [],
   "source": [
    "# Normalize numerical features\n",
    "scaler = StandardScaler()\n",
    "numerical_features = [\"total_spend\", \"transaction_count\", \"avg_transaction_value\"]\n",
    "normalized_features = scaler.fit_transform(customer_features[numerical_features])"
   ]
  },
  {
   "cell_type": "code",
   "execution_count": 46,
   "id": "3206220c-f4c4-44a4-b44c-79afa2c85eb2",
   "metadata": {},
   "outputs": [],
   "source": [
    "# Combine normalized features with one-hot encoded regions\n",
    "X = pd.concat(\n",
    "    [pd.DataFrame(normalized_features, columns=numerical_features), \n",
    "     customer_features.filter(like=\"region_\").reset_index(drop=True)], \n",
    "    axis=1\n",
    ")"
   ]
  },
  {
   "cell_type": "code",
   "execution_count": 47,
   "id": "d0f8c93f-cffe-4385-977e-88fa5b5962b3",
   "metadata": {},
   "outputs": [],
   "source": [
    "# Calculate cosine similarity\n",
    "similarity_matrix = cosine_similarity(X)"
   ]
  },
  {
   "cell_type": "code",
   "execution_count": 48,
   "id": "39b0738e-87b2-40ed-8c61-5bbd0685adc7",
   "metadata": {},
   "outputs": [],
   "source": [
    "# Generate lookalike recommendations for the first 20 customers\n",
    "lookalike_map = {}\n",
    "customer_ids = customer_features[\"CustomerID\"].values\n",
    "\n",
    "for i, customer_id in enumerate(customer_ids[:20]):\n",
    "    lookalike_map[customer_id] = get_top_n_similar_customers(i, similarity_matrix, n=3)"
   ]
  },
  {
   "cell_type": "code",
   "execution_count": 49,
   "id": "cf3b6592-fac3-416c-bd24-572ccdd436ed",
   "metadata": {},
   "outputs": [],
   "source": [
    " # Function to get top n similar customers\n",
    "def get_top_n_similar_customers(index, similarity_matrix, n=3):\n",
    "    similarities = similarity_matrix[index]\n",
    "    similar_indices = similarities.argsort()[-(n + 1):][::-1][1:]  # Exclude self\n",
    "    return [(customer_ids[idx], similarities[idx]) for idx in similar_indices]"
   ]
  },
  {
   "cell_type": "code",
   "execution_count": 50,
   "id": "2bcd8d69-c733-4016-bf6c-8744bc2caa22",
   "metadata": {},
   "outputs": [],
   "source": [
    "# Generate lookalike recommendations for the first 20 customers\n",
    "lookalike_map = {}\n",
    "for i, customer_id in enumerate(customer_ids[:20]):\n",
    "    lookalike_map[customer_id] = get_top_n_similar_customers(i, similarity_matrix, n=3)"
   ]
  },
  {
   "cell_type": "code",
   "execution_count": 51,
   "id": "5183ec84-a640-4d30-8ea2-248da3adbbfc",
   "metadata": {},
   "outputs": [
    {
     "name": "stdout",
     "output_type": "stream",
     "text": [
      "CustomerID: C0001\n",
      "  SimilarCustomerID: C0137, SimilarityScore: 1.00\n",
      "  SimilarCustomerID: C0152, SimilarityScore: 1.00\n",
      "  SimilarCustomerID: C0107, SimilarityScore: 0.96\n",
      "\n",
      "CustomerID: C0002\n",
      "  SimilarCustomerID: C0043, SimilarityScore: 0.98\n",
      "  SimilarCustomerID: C0142, SimilarityScore: 0.98\n",
      "  SimilarCustomerID: C0088, SimilarityScore: 0.95\n",
      "\n",
      "CustomerID: C0003\n",
      "  SimilarCustomerID: C0133, SimilarityScore: 0.99\n",
      "  SimilarCustomerID: C0052, SimilarityScore: 0.98\n",
      "  SimilarCustomerID: C0112, SimilarityScore: 0.94\n",
      "\n",
      "CustomerID: C0004\n",
      "  SimilarCustomerID: C0108, SimilarityScore: 0.98\n",
      "  SimilarCustomerID: C0113, SimilarityScore: 0.98\n",
      "  SimilarCustomerID: C0165, SimilarityScore: 0.97\n",
      "\n",
      "CustomerID: C0005\n",
      "  SimilarCustomerID: C0159, SimilarityScore: 1.00\n",
      "  SimilarCustomerID: C0123, SimilarityScore: 0.98\n",
      "  SimilarCustomerID: C0186, SimilarityScore: 0.97\n",
      "\n",
      "CustomerID: C0006\n",
      "  SimilarCustomerID: C0168, SimilarityScore: 0.98\n",
      "  SimilarCustomerID: C0158, SimilarityScore: 0.97\n",
      "  SimilarCustomerID: C0171, SimilarityScore: 0.94\n",
      "\n",
      "CustomerID: C0007\n",
      "  SimilarCustomerID: C0140, SimilarityScore: 0.98\n",
      "  SimilarCustomerID: C0080, SimilarityScore: 0.95\n",
      "  SimilarCustomerID: C0078, SimilarityScore: 0.95\n",
      "\n",
      "CustomerID: C0008\n",
      "  SimilarCustomerID: C0139, SimilarityScore: 0.97\n",
      "  SimilarCustomerID: C0109, SimilarityScore: 0.97\n",
      "  SimilarCustomerID: C0098, SimilarityScore: 0.93\n",
      "\n",
      "CustomerID: C0009\n",
      "  SimilarCustomerID: C0060, SimilarityScore: 0.98\n",
      "  SimilarCustomerID: C0010, SimilarityScore: 0.98\n",
      "  SimilarCustomerID: C0121, SimilarityScore: 0.98\n",
      "\n",
      "CustomerID: C0010\n",
      "  SimilarCustomerID: C0199, SimilarityScore: 0.99\n",
      "  SimilarCustomerID: C0009, SimilarityScore: 0.98\n",
      "  SimilarCustomerID: C0121, SimilarityScore: 0.98\n",
      "\n",
      "CustomerID: C0011\n",
      "  SimilarCustomerID: C0107, SimilarityScore: 0.99\n",
      "  SimilarCustomerID: C0048, SimilarityScore: 0.99\n",
      "  SimilarCustomerID: C0152, SimilarityScore: 0.94\n",
      "\n",
      "CustomerID: C0012\n",
      "  SimilarCustomerID: C0155, SimilarityScore: 1.00\n",
      "  SimilarCustomerID: C0108, SimilarityScore: 0.98\n",
      "  SimilarCustomerID: C0102, SimilarityScore: 0.98\n",
      "\n",
      "CustomerID: C0013\n",
      "  SimilarCustomerID: C0087, SimilarityScore: 0.99\n",
      "  SimilarCustomerID: C0188, SimilarityScore: 0.99\n",
      "  SimilarCustomerID: C0099, SimilarityScore: 0.99\n",
      "\n",
      "CustomerID: C0014\n",
      "  SimilarCustomerID: C0198, SimilarityScore: 0.99\n",
      "  SimilarCustomerID: C0060, SimilarityScore: 0.98\n",
      "  SimilarCustomerID: C0009, SimilarityScore: 0.96\n",
      "\n",
      "CustomerID: C0015\n",
      "  SimilarCustomerID: C0144, SimilarityScore: 0.99\n",
      "  SimilarCustomerID: C0036, SimilarityScore: 0.98\n",
      "  SimilarCustomerID: C0131, SimilarityScore: 0.98\n",
      "\n",
      "CustomerID: C0016\n",
      "  SimilarCustomerID: C0183, SimilarityScore: 1.00\n",
      "  SimilarCustomerID: C0026, SimilarityScore: 0.88\n",
      "  SimilarCustomerID: C0018, SimilarityScore: 0.87\n",
      "\n",
      "CustomerID: C0017\n",
      "  SimilarCustomerID: C0124, SimilarityScore: 0.98\n",
      "  SimilarCustomerID: C0075, SimilarityScore: 0.97\n",
      "  SimilarCustomerID: C0179, SimilarityScore: 0.84\n",
      "\n",
      "CustomerID: C0018\n",
      "  SimilarCustomerID: C0079, SimilarityScore: 0.94\n",
      "  SimilarCustomerID: C0117, SimilarityScore: 0.93\n",
      "  SimilarCustomerID: C0016, SimilarityScore: 0.87\n",
      "\n",
      "CustomerID: C0019\n",
      "  SimilarCustomerID: C0172, SimilarityScore: 1.00\n",
      "  SimilarCustomerID: C0111, SimilarityScore: 0.97\n",
      "  SimilarCustomerID: C0119, SimilarityScore: 0.95\n",
      "\n",
      "CustomerID: C0020\n",
      "  SimilarCustomerID: C0042, SimilarityScore: 0.95\n",
      "  SimilarCustomerID: C0176, SimilarityScore: 0.94\n",
      "  SimilarCustomerID: C0144, SimilarityScore: 0.90\n",
      "\n"
     ]
    }
   ],
   "source": [
    "# Display the lookalike recommendations\n",
    "for cust_id, lookalikes in lookalike_map.items():\n",
    "    print(f\"CustomerID: {cust_id}\")\n",
    "    for similar_cust_id, score in lookalikes:\n",
    "        print(f\"  SimilarCustomerID: {similar_cust_id}, SimilarityScore: {score:.2f}\")\n",
    "    print()"
   ]
  },
  {
   "cell_type": "code",
   "execution_count": 52,
   "id": "03899667-cc6a-4a5a-ad47-a6eae81eb4aa",
   "metadata": {},
   "outputs": [],
   "source": [
    "# Prepare the output for CSV\n",
    "output_data = []\n",
    "for cust_id, lookalikes in lookalike_map.items():\n",
    "    for similar_cust_id, score in lookalikes:\n",
    "        output_data.append({\"CustomerID\": cust_id, \"SimilarCustomerID\": similar_cust_id, \"SimilarityScore\": score})"
   ]
  },
  {
   "cell_type": "code",
   "execution_count": 53,
   "id": "66fe7506-ad6e-4e90-8d62-1b146ea18c26",
   "metadata": {},
   "outputs": [],
   "source": [
    "# Save the lookalikes to a CSV file\n",
    "output_df = pd.DataFrame(output_data)\n",
    "output_file = \"Lookalike.csv\"\n",
    "output_df.to_csv(output_file, index=False)"
   ]
  },
  {
   "cell_type": "code",
   "execution_count": 54,
   "id": "e2c9929e-8554-406f-bf12-fbced4e93caa",
   "metadata": {},
   "outputs": [],
   "source": [
    "# Save the output to a CSV file\n",
    "output_df = pd.DataFrame(output_data)"
   ]
  },
  {
   "cell_type": "code",
   "execution_count": 55,
   "id": "216be4a5-0b37-4776-9fab-8857a6b6b178",
   "metadata": {},
   "outputs": [],
   "source": [
    "# Specify the path where you want to save the file (adjust as needed)\n",
    "output_file_path = \"C:/OUTPUTLA/Lookalike.csv\"  # Replace with your desired path"
   ]
  },
  {
   "cell_type": "code",
   "execution_count": 56,
   "id": "83cd3379-f9bb-4271-8b0f-03c0a3abe8d3",
   "metadata": {},
   "outputs": [
    {
     "name": "stdout",
     "output_type": "stream",
     "text": [
      "Lookalike recommendations saved to C:/OUTPUTLA/Lookalike.csv.\n"
     ]
    }
   ],
   "source": [
    "output_df.to_csv(output_file_path, index=False)\n",
    "\n",
    "print(f\"Lookalike recommendations saved to {output_file_path}.\")"
   ]
  },
  {
   "cell_type": "code",
   "execution_count": null,
   "id": "d75632d4-d451-4fa5-acba-0fb3185383ca",
   "metadata": {},
   "outputs": [],
   "source": []
  }
 ],
 "metadata": {
  "kernelspec": {
   "display_name": "Python 3 (ipykernel)",
   "language": "python",
   "name": "python3"
  },
  "language_info": {
   "codemirror_mode": {
    "name": "ipython",
    "version": 3
   },
   "file_extension": ".py",
   "mimetype": "text/x-python",
   "name": "python",
   "nbconvert_exporter": "python",
   "pygments_lexer": "ipython3",
   "version": "3.12.7"
  }
 },
 "nbformat": 4,
 "nbformat_minor": 5
}
